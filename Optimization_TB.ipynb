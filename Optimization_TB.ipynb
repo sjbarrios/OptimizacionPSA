{
 "cells": [
  {
   "cell_type": "markdown",
   "metadata": {},
   "source": [
    "### Optimizador de Extracción de Sacarosa Tándem B\n",
    "\n",
    "Se presenta el análisis y construcción del problema de optimización de *Extracción de Sacarosa* del Tándem B de Ingenio Pantaleon. El objetivo es determinar recomendaciones para variables controlables de operación del tándem de molinos que permitan simultáneamente:\n",
    "- Maximizar la Extracción de Sacarosa.\n",
    "- Operar dentro de los parámetros mecánicos de reductores.\n",
    "- Operar dentro de los parámetros eléctricos de motores.\n",
    "- Obtener una molienda horaria específica.\n",
    "- Operar sin superar una humedad de bagazo máxima específica.\n"
   ]
  },
  {
   "cell_type": "code",
   "execution_count": 2,
   "metadata": {},
   "outputs": [],
   "source": [
    "import numpy as np\n",
    "import pandas as pd\n",
    "from gurobipy import *"
   ]
  },
  {
   "cell_type": "markdown",
   "metadata": {},
   "source": [
    "\n",
    "### Conjuntos y Notaciones\n",
    "\n",
    "Se define la siguiente notación:\n",
    "\n",
    "- $T_i$ el *Torque* (en kNm) aplicado en el Molino $i$, $\\forall i \\in \\{1,2,3,4,5,6\\}$\n",
    "\n",
    "- $P_i$ la *Potencia* (en kW) aplicada al Molino $i$, $\\forall i \\in \\{1,2,3,4,5,6\\}$\n",
    "\n",
    "- $S_i$ la *Velocidad* (en rpms) del motor eléctrico del Molino $i$, $\\forall i \\in \\{1,2,3,4,5,6\\}$\n",
    "\n",
    "- $R_i$ el *Ratio de Reducción* del reductor del Molino $i$, $\\forall i \\in \\{1,2,3,4,5,6\\}$\n",
    "\n",
    "Por tanto:\n",
    "\n",
    "$$ T_i = \\frac{60 * P_i}{2*\\pi*\\frac{S_i}{R_i}}$$\n",
    "\n",
    "- $E$ el % de **Extracción de Sacarosa**.\n",
    "\n",
    "- $F$ el % de Fibra en Caña.\n",
    "\n",
    "- $B$ el % de Bagazo en Caña.\n",
    "\n",
    "- $C$ el Rendimiento Core (kg/t) de la Caña.\n",
    "\n",
    "- $D$ el día de Zafra.\n",
    "\n",
    "- $W$ el Ratio de Molienda (t/h), en donde:\n",
    "$$W = \\beta_0 + \\beta_1 * T_1 + \\beta_2 * T_2 + \\beta_3 * T_3 + \\beta_4 * T_4 + \\beta_5 * T_5 + \\beta_6 * T_6 + \\beta_7 * F$$\n",
    "\n",
    "- $H$ el % de Humedad de Bagazo, en donde:\n",
    "$$H = \\gamma_0 + \\gamma_1 * T_1 + \\gamma_2 * T_6 + \\gamma_3 * I + \\gamma_4 * B + \\gamma_5 * D + \\gamma_6 * F$$\n",
    "\n",
    "\n",
    "\n",
    "#### Variables de Decisión\n",
    "\n",
    "- $T_i$ como el Torque aplicado al Molino $i$.\n",
    "- $I$ como la Imbibición % Fibra aplicada al tándem de Molinos.\n",
    "\n",
    "#### Función Objetivo\n",
    "\n",
    "$$ E = \\alpha_1 * \\sum_{i=1}^{6} T_i + \\alpha_2 * I + \\alpha_3 * F + \\alpha_4 * C$$\n",
    "\n",
    "Y el problema de optimización se plantea por medio de una función de la siguiente forma:\n",
    "$$ \\max E = \\max \\{ \\alpha_1 * \\sum_{i=1}^{6} T_i + \\alpha_2 * I + \\alpha_3 * F + \\alpha_4 * C \\}$$\n",
    "\n",
    "Sujeta a:\n",
    "\n",
    "- $T_i \\leq T_{i-max}, \\forall i \\in \\{1,2,3,4,5,6\\}$ (El torque en el Molino $i$ no supere el torque máximo permitido en el Reductor $i$).\n",
    "\n",
    "- $P_i = T_i * \\omega_i = T_i * \\frac{2 * \\pi}{60} *\\frac{S_i}{R_i} \\leq P_{i-max}, \\forall i \\in \\{1,2,3,4,5,6\\}$ (La potencia en el Molino $i$ no supere la potencia máxima permitida en el motor eléctrico $i$).\n",
    "\n",
    "- $H(T_1,T_6,I,B,D,F) \\leq H_{max}$ (La humedad del bagazo no supere la humedad máxima permitida).\n",
    "\n",
    "- $W(T_1,T_2,T_3,T_4,T_5,T_6,F) \\leq W_{max}$ (Un ratio de molienda específico).\n",
    "\n",
    "- $T_i \\geq T_{i-min},  \\forall i \\in \\{1,2,3,4,5,6\\}$ (El torque en el Molino $i$ no sea inferior al torque mínimo permitido en el Reductor $i$)."
   ]
  },
  {
   "cell_type": "markdown",
   "metadata": {},
   "source": [
    "### Modelo de Optimización"
   ]
  },
  {
   "cell_type": "code",
   "execution_count": 3,
   "metadata": {},
   "outputs": [
    {
     "name": "stdout",
     "output_type": "stream",
     "text": [
      "Set parameter Username\n",
      "Set parameter LicenseID to value 2610087\n"
     ]
    }
   ],
   "source": [
    "# crear modelo de optimización\n",
    "w = Model('Molinos_TB')"
   ]
  },
  {
   "cell_type": "markdown",
   "metadata": {},
   "source": [
    "### Variables de Decisión"
   ]
  },
  {
   "cell_type": "code",
   "execution_count": 4,
   "metadata": {},
   "outputs": [],
   "source": [
    "# variables de decision\n",
    "T1 = w.addVar(name='Torque_M1')\n",
    "T2 = w.addVar(name='Torque_M2')\n",
    "T3 = w.addVar(name='Torque_M3')\n",
    "T4 = w.addVar(name='Torque_M4')\n",
    "T5 = w.addVar(name='Torque_M5')\n",
    "T6 = w.addVar(name='Torque_M6')\n",
    "TT = w.addVar(name='Torque_Total')\n",
    "Imb = w.addVar(name='Imbibicion')"
   ]
  },
  {
   "cell_type": "code",
   "execution_count": 5,
   "metadata": {},
   "outputs": [],
   "source": [
    "# Mediciones de Proceso\n",
    "\n",
    "# Potencias Motores Eléctricos (kW)\n",
    "JT55N101_pv = 917\n",
    "JT55N201_pv = 865\n",
    "JT55N301_pv = 882\n",
    "JT55N401_pv = 656\n",
    "JT55N501_pv = 468\n",
    "JT55N601_pv = 530\n",
    "\n",
    "# Velocidad Motores Eléctricos (rpms)\n",
    "ST55N101_pv = 699\n",
    "ST55N201_pv = 638\n",
    "ST55N301_pv = 780\n",
    "ST55N401_pv = 792\n",
    "ST55N501_pv = 771\n",
    "ST55N601_pv = 927\n",
    "\n",
    "# Variables de Calidad de Caña\n",
    "Fibra_Caña = 13\n",
    "Core_Sampler = 128.2\n",
    "Dia_Zafra = 180\n",
    "Bagazo_Caña = 26.2\n",
    "\n",
    "# Parámetros de Proceso\n",
    "\n",
    "# Torques Máximos Permitidos (kNm)\n",
    "TQ55N101_max = 2300\n",
    "TQ55N201_max = 2300\n",
    "TQ55N301_max = 2300\n",
    "TQ55N401_max = 2300\n",
    "TQ55N501_max = 2300\n",
    "TQ55N601_max = 2300\n",
    "\n",
    "# Torques Mínimos Permitidos (kNm)\n",
    "TQ55N101_min = 300\n",
    "TQ55N201_min = 300\n",
    "TQ55N301_min = 300\n",
    "TQ55N401_min = 300\n",
    "TQ55N501_min = 300\n",
    "TQ55N601_min = 300\n",
    "\n",
    "# Potencias Máximas Motores Eléctricos (kW)\n",
    "JT55N101_max = 900\n",
    "JT55N201_max = 900\n",
    "JT55N301_max = 650\n",
    "JT55N401_max = 650\n",
    "JT55N501_max = 650\n",
    "JT55N601_max = 800\n"
   ]
  },
  {
   "cell_type": "code",
   "execution_count": 6,
   "metadata": {},
   "outputs": [],
   "source": [
    "# función objetivo\n",
    "# E = 9.58167929e+01 + 1.30564865e-11*TT + 2.17531435e-03*Imb - 2.10645544e-01*Fibra_Caña + 2.90500395e-02*Core_Sampler\n",
    "# Debido a la escala pequeña del coeficiente del Torque Total, se multiplica la función objetivo por 1e+11 que hace más estable numéricamente la optimización. Este escalamiento no cambia el problema.\n",
    "\n",
    "w.setObjective(9.58167929e+12 + 1.30564865e+00*TT + 2.17531435e+08*Imb - 2.10645544e+10*Fibra_Caña + 2.90500395e+09*Core_Sampler,GRB.MAXIMIZE)\n"
   ]
  },
  {
   "cell_type": "code",
   "execution_count": 7,
   "metadata": {},
   "outputs": [
    {
     "data": {
      "text/plain": [
       "<gurobi.Constr *Awaiting Model Update*>"
      ]
     },
     "execution_count": 7,
     "metadata": {},
     "output_type": "execute_result"
    }
   ],
   "source": [
    "# restricciones\n",
    "w.addConstr(5.28199559e+02 + 1.88219396e-01*T1 - 3.71569031e-09*T2 + 5.51366311e-02*T3 + 6.46980777e-02*T4 + 6.04199874e-02*T5 + 6.54760007e-03*T6 - 3.91315483e+01*Fibra_Caña <= 650,'ratio_molienda_max')\n",
    "w.addConstr(4.73046858e+01 + 1.15348642e-04*T1 - 2.48697368e-04*T6 + 7.95713706e-04*Imb + 1.92101683e+00*Bagazo_Caña - 8.77759126e-05*Dia_Zafra - 3.80080926e+00*Fibra_Caña <= 49,'humedad')\n",
    "\n",
    "# Torque Total\n",
    "w.addConstr(TT == (T1 + T2 + T3 + T4 + T5 + T6))\n",
    "\n",
    "# Torques máximos permitidos (reductores)\n",
    "w.addConstr(T1  <= TQ55N101_max,'torque_max_m1')\n",
    "w.addConstr(T2  <= TQ55N201_max,'torque_max_m2')\n",
    "w.addConstr(T3  <= TQ55N301_max,'torque_max_m3')\n",
    "w.addConstr(T4  <= TQ55N401_max,'torque_max_m4')\n",
    "w.addConstr(T5  <= TQ55N501_max,'torque_max_m5')\n",
    "w.addConstr(T6  <= TQ55N601_max,'torque_max_m6')\n",
    "\n",
    "# Torques máximos permitidos (motores eléctricos)\n",
    "w.addConstr(T1 <= (60*JT55N101_max)/(2*np.pi*ST55N101_pv/180),'torque_max_m1_electrico')\n",
    "w.addConstr(T2 <= (60*JT55N201_max)/(2*np.pi*ST55N201_pv/180),'torque_max_m2_electrico')\n",
    "w.addConstr(T3 <= (60*JT55N301_max)/(2*np.pi*ST55N301_pv/130),'torque_max_m3_electrico')\n",
    "w.addConstr(T4 <= (60*JT55N401_max)/(2*np.pi*ST55N401_pv/130),'torque_max_m4_electrico')\n",
    "w.addConstr(T5 <= (60*JT55N501_max)/(2*np.pi*ST55N501_pv/130),'torque_max_m5_electrico')\n",
    "w.addConstr(T6 <= (60*JT55N601_max)/(2*np.pi*ST55N601_pv/180),'torque_max_m6_electrico')\n",
    "\n",
    "\n",
    "# Torques mínimos permitidos (extracción)\n",
    "w.addConstr(T1  >= TQ55N101_min,'torque_min_m1')\n",
    "w.addConstr(T2  >= TQ55N201_min,'torque_min_m2')\n",
    "w.addConstr(T3  >= TQ55N301_min,'torque_min_m3')\n",
    "w.addConstr(T4  >= TQ55N401_min,'torque_min_m4')\n",
    "w.addConstr(T5  >= TQ55N501_min,'torque_min_m5')\n",
    "w.addConstr(T6  >= TQ55N601_min,'torque_min_m6')\n",
    "\n",
    "# Agua de Imbibición % Fibra\n",
    "w.addConstr(Imb  <= 250,'max_imbibicion')"
   ]
  },
  {
   "cell_type": "code",
   "execution_count": 8,
   "metadata": {},
   "outputs": [
    {
     "name": "stdout",
     "output_type": "stream",
     "text": [
      "Maximize\n",
      "  9680261589190.0 + 1.30564865 Torque_Total + 217531435.0 Imbibicion\n",
      "Subject To\n",
      "ratio_molienda_max: 0.188219396 Torque_M1 + -3.71569031e-09 Torque_M2 + 0.0551366311\n",
      "Torque_M3 + 0.0646980777 Torque_M4 + 0.0604199874 Torque_M5 + 0.00654760007 Torque_M6 <=\n",
      " 630.511\n",
      "humedad: 0.000115348642 Torque_M1 + -0.000248697368 Torque_M6 + 0.000795713706\n",
      " Imbibicion <= 0.790993\n",
      "R2: -1.0 Torque_M1 + -1.0 Torque_M2 + -1.0 Torque_M3 + -1.0 Torque_M4 + -1.0 Torque_M5\n",
      " + -1.0 Torque_M6 + Torque_Total = 0\n",
      "  torque_max_m1: Torque_M1 <= 2300\n",
      "  torque_max_m2: Torque_M2 <= 2300\n",
      "  torque_max_m3: Torque_M3 <= 2300\n",
      "  torque_max_m4: Torque_M4 <= 2300\n",
      "  torque_max_m5: Torque_M5 <= 2300\n",
      "  torque_max_m6: Torque_M6 <= 2300\n",
      "  torque_max_m1_electrico: Torque_M1 <= 2213.14\n",
      "  torque_max_m2_electrico: Torque_M2 <= 2424.74\n",
      "  torque_max_m3_electrico: Torque_M3 <= 1034.51\n",
      "  torque_max_m4_electrico: Torque_M4 <= 1018.83\n",
      "  torque_max_m5_electrico: Torque_M5 <= 1046.58\n",
      "  torque_max_m6_electrico: Torque_M6 <= 1483.39\n",
      "  torque_min_m1: Torque_M1 >= 300\n",
      "  torque_min_m2: Torque_M2 >= 300\n",
      "  torque_min_m3: Torque_M3 >= 300\n",
      "  torque_min_m4: Torque_M4 >= 300\n",
      "  torque_min_m5: Torque_M5 >= 300\n",
      "  torque_min_m6: Torque_M6 >= 300\n",
      "  max_imbibicion: Imbibicion <= 250\n"
     ]
    },
    {
     "name": "stderr",
     "output_type": "stream",
     "text": [
      "/var/folders/r8/vjfpl_c11yj96w72yy_xrcj80000gn/T/ipykernel_2653/3541112219.py:3: DeprecationWarning: Model.display() is deprecated\n",
      "  w.display()\n"
     ]
    }
   ],
   "source": [
    "# guardar modelo para inspección\n",
    "w.write('WEC.lp')\n",
    "w.display()"
   ]
  },
  {
   "cell_type": "code",
   "execution_count": 9,
   "metadata": {},
   "outputs": [
    {
     "name": "stdout",
     "output_type": "stream",
     "text": [
      "Gurobi Optimizer version 12.0.1 build v12.0.1rc0 (mac64[arm] - Darwin 24.4.0 24E248)\n",
      "\n",
      "CPU model: Apple M2 Max\n",
      "Thread count: 12 physical cores, 12 logical processors, using up to 12 threads\n",
      "\n",
      "Optimize a model with 22 rows, 8 columns and 35 nonzeros\n",
      "Model fingerprint: 0x40fc95bd\n",
      "Coefficient statistics:\n",
      "  Matrix range     [4e-09, 1e+00]\n",
      "  Objective range  [1e+00, 2e+08]\n",
      "  Bounds range     [0e+00, 0e+00]\n",
      "  RHS range        [8e-01, 2e+03]\n",
      "Presolve removed 22 rows and 8 columns\n",
      "Presolve time: 0.00s\n",
      "Presolve: All rows and columns removed\n",
      "Iteration    Objective       Primal Inf.    Dual Inf.      Time\n",
      "       0    9.7346445e+12   0.000000e+00   0.000000e+00      0s\n",
      "\n",
      "Solved in 0 iterations and 0.00 seconds (0.00 work units)\n",
      "Optimal objective  9.734644460e+12\n"
     ]
    }
   ],
   "source": [
    "# motor de optimización\n",
    "w.optimize()"
   ]
  },
  {
   "cell_type": "code",
   "execution_count": 10,
   "metadata": {},
   "outputs": [
    {
     "name": "stdout",
     "output_type": "stream",
     "text": [
      "--- Indicadores de Extracción ----\n",
      "Ratio de Molienda Proyectado: 631.95 t/h\n",
      "Humedad de Bagazo Proyectada: 48.29 %\n",
      "Extracción de Sacarosa Proyectada: 97.35 %\n",
      "Agua Imbibición (% Fibra): 250.0 %\n",
      "Torque Total Molinos: 9096.45 kNm\n",
      "---------- Molino No. 1 ----------\n",
      "Torque: 2213.142 kNm --> Potencia Media: 917 kW, Velocidad: 712.2 rpms\n",
      "---------- Molino No. 2 ----------\n",
      "Torque: 2300.0 kNm --> Potencia Media: 865 kW, Velocidad: 646.45 rpms\n",
      "---------- Molino No. 3 ----------\n",
      "Torque: 1034.507 kNm --> Potencia Media: 882 kW, Velocidad: 1465.48 rpms\n",
      "---------- Molino No. 4 ----------\n",
      "Torque: 1018.833 kNm --> Potencia Media: 656 kW, Velocidad: 1106.74 rpms\n",
      "---------- Molino No. 5 ----------\n",
      "Torque: 1046.583 kNm --> Potencia Media: 468 kW, Velocidad: 768.63 rpms\n",
      "---------- Molino No. 6 ----------\n",
      "Torque: 1483.386 kNm --> Potencia Media: 530 kW, Velocidad: 614.14 rpms\n"
     ]
    }
   ],
   "source": [
    "# variables optimizadas\n",
    "\n",
    "humedad = 4.73046858e+01 + 1.15348642e-04*T1.x - 2.48697368e-04*T6.x + 7.95713706e-04*Imb.x + 1.92101683e+00*Bagazo_Caña - 8.77759126e-05*Dia_Zafra - 3.80080926e+00*Fibra_Caña\n",
    "ratio = 5.28199559e+02 + 1.88219396e-01*T1.x - 3.71569031e-09*T2.x + 5.51366311e-02*T3.x + 6.46980777e-02*T4.x + 6.04199874e-02*T5.x + 6.54760007e-03*T6.x - 3.91315483e+01*Fibra_Caña\n",
    "\n",
    "print('--- Indicadores de Extracción ----')\n",
    "print('Ratio de Molienda Proyectado: %s t/h'%np.round(ratio,2))\n",
    "print('Humedad de Bagazo Proyectada: %s %%'%np.round(humedad,2))\n",
    "print('Extracción de Sacarosa Proyectada: %s %%'%np.round(w.objVal/1e+11,2))\n",
    "print('Agua Imbibición (%% Fibra): %s %%'%np.round(Imb.x,2))\n",
    "print('Torque Total Molinos: %s kNm'%np.round(TT.x,2))\n",
    "print('---------- Molino No. 1 ----------')\n",
    "print('Torque: %s kNm --> Potencia Media: %s kW, Velocidad: %s rpms' % (np.round(T1.x,3),JT55N101_pv,np.round(180*(60*JT55N101_pv)/(2*np.pi*T1.x),2)))\n",
    "print('---------- Molino No. 2 ----------')\n",
    "print('Torque: %s kNm --> Potencia Media: %s kW, Velocidad: %s rpms' % (np.round(T2.x,3),JT55N201_pv,np.round(180*(60*JT55N201_pv)/(2*np.pi*T2.x),2)))\n",
    "print('---------- Molino No. 3 ----------')\n",
    "print('Torque: %s kNm --> Potencia Media: %s kW, Velocidad: %s rpms' % (np.round(T3.x,3),JT55N301_pv,np.round(180*(60*JT55N301_pv)/(2*np.pi*T3.x),2)))\n",
    "print('---------- Molino No. 4 ----------')\n",
    "print('Torque: %s kNm --> Potencia Media: %s kW, Velocidad: %s rpms' % (np.round(T4.x,3),JT55N401_pv,np.round(180*(60*JT55N401_pv)/(2*np.pi*T4.x),2)))\n",
    "print('---------- Molino No. 5 ----------')\n",
    "print('Torque: %s kNm --> Potencia Media: %s kW, Velocidad: %s rpms' % (np.round(T5.x,3),JT55N501_pv,np.round(180*(60*JT55N501_pv)/(2*np.pi*T5.x),2)))\n",
    "print('---------- Molino No. 6 ----------')\n",
    "print('Torque: %s kNm --> Potencia Media: %s kW, Velocidad: %s rpms' % (np.round(T6.x,3),JT55N601_pv,np.round(180*(60*JT55N601_pv)/(2*np.pi*T6.x),2)))"
   ]
  }
 ],
 "metadata": {
  "kernelspec": {
   "display_name": "PantaleonOpt",
   "language": "python",
   "name": "python3"
  },
  "language_info": {
   "codemirror_mode": {
    "name": "ipython",
    "version": 3
   },
   "file_extension": ".py",
   "mimetype": "text/x-python",
   "name": "python",
   "nbconvert_exporter": "python",
   "pygments_lexer": "ipython3",
   "version": "3.11.0"
  }
 },
 "nbformat": 4,
 "nbformat_minor": 2
}
