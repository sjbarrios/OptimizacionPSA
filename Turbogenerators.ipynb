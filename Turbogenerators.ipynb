{
 "cells": [
  {
   "cell_type": "markdown",
   "id": "1cd84db6",
   "metadata": {},
   "source": [
    "### Optimización de Turbogeneradores de Vapor\n",
    "\n",
    "Se presenta el análisis y construcción del problema de optimización de *Maximización de Eficiencia de Producción de Energía* en Turbogeneradores de Ingenio Pantaleon. El objetivo es determinar recomendaciones sobre qué Turbogeneradores operar y a qué carga dada una demanda de vapor específica, de forma que:\n",
    "- Se maximice la cantidad de energía producida dada una demanda de vapor específica. \n",
    "- Se opere dentro de los límites máximos y mínimos de carga de los turbogeneradores."
   ]
  },
  {
   "cell_type": "code",
   "execution_count": 1,
   "id": "6c4b2502",
   "metadata": {},
   "outputs": [],
   "source": [
    "import numpy as np\n",
    "import pandas as pd\n",
    "from gurobipy import *"
   ]
  },
  {
   "cell_type": "markdown",
   "id": "11573dc0",
   "metadata": {},
   "source": [
    "### Selección de Turbogeneradores\n",
    "\n",
    "Basado en su Potencia Nominal Máxima, se construye un problema de optimización para seleccionar los turbogeneradores más eficiente para una demanda de energía específica."
   ]
  },
  {
   "cell_type": "markdown",
   "id": "fbb764f5",
   "metadata": {},
   "source": [
    "#### Conjuntos y Notaciones\n",
    "\n",
    "Se define la siguiente notación:\n",
    "\n",
    "- $P_i$ la *Potencia* (en kW) generada en el Turbogenerador $i$, $\\forall i \\in \\{1,2,3,4,5,6\\}$\n",
    "\n",
    "- $F_i$ la *Eficiencia* (en klb Vapor/kW) del Turbogenerador $i$, $\\forall i \\in \\{1,2,3,4,5,6\\}$\n",
    "\n",
    "- $C_i$ el *Consumo de Vapor* (en klb Vapor) del Turbogenerador $i$, $\\forall i \\in \\{1,2,3,4,5,6\\}$\n",
    "\n",
    "De forma que:\n",
    "\n",
    "$$ C_i = P_i * F_i, \\forall i \\in \\{1,2,3,4,5,6\\}$$\n",
    "\n",
    "##### Variables de Decisión\n",
    "- $x_i$ si el Turbogenerador $i$ debe o no estar en linea, $x_i \\in \\{0,1\\}, \\forall i \\in \\{1,2,3,4,5,6\\}$\n",
    "\n",
    "#### Función Objetivo\n",
    "\n",
    "El objetivo es minimizar es el *Consumo Total de Vapor* dada una *Potencia Total Demandada*:\n",
    "$$ \\min \\sum_{i=1}^{6} C_i = \\sum_{i=1}^{6} x_i * P_i * F_i  $$\n",
    "\n",
    "Sujeta a:\n",
    "\n",
    "- $\\sum_{i=1}^{6} x_i * P_i \\geq P_{Demanda}$ (La potencia total generada debe ser mayor o igual que la potencia total requerida).\n",
    "- $x_i \\in \\{0,1\\}$"
   ]
  },
  {
   "cell_type": "code",
   "execution_count": 2,
   "id": "64b2a38c",
   "metadata": {},
   "outputs": [
    {
     "data": {
      "text/html": [
       "<div>\n",
       "<style scoped>\n",
       "    .dataframe tbody tr th:only-of-type {\n",
       "        vertical-align: middle;\n",
       "    }\n",
       "\n",
       "    .dataframe tbody tr th {\n",
       "        vertical-align: top;\n",
       "    }\n",
       "\n",
       "    .dataframe thead th {\n",
       "        text-align: right;\n",
       "    }\n",
       "</style>\n",
       "<table border=\"1\" class=\"dataframe\">\n",
       "  <thead>\n",
       "    <tr style=\"text-align: right;\">\n",
       "      <th></th>\n",
       "      <th>Turbogenerador</th>\n",
       "      <th>Potencia Maxima (kW)</th>\n",
       "      <th>Potencia Minima (kW)</th>\n",
       "      <th>Eficiencia (lb vapor / kW)</th>\n",
       "    </tr>\n",
       "  </thead>\n",
       "  <tbody>\n",
       "    <tr>\n",
       "      <th>0</th>\n",
       "      <td>1</td>\n",
       "      <td>22000</td>\n",
       "      <td>4000</td>\n",
       "      <td>10</td>\n",
       "    </tr>\n",
       "    <tr>\n",
       "      <th>1</th>\n",
       "      <td>2</td>\n",
       "      <td>21000</td>\n",
       "      <td>5000</td>\n",
       "      <td>12</td>\n",
       "    </tr>\n",
       "    <tr>\n",
       "      <th>2</th>\n",
       "      <td>3</td>\n",
       "      <td>15000</td>\n",
       "      <td>3000</td>\n",
       "      <td>10</td>\n",
       "    </tr>\n",
       "    <tr>\n",
       "      <th>3</th>\n",
       "      <td>4</td>\n",
       "      <td>8000</td>\n",
       "      <td>4000</td>\n",
       "      <td>11</td>\n",
       "    </tr>\n",
       "    <tr>\n",
       "      <th>4</th>\n",
       "      <td>5</td>\n",
       "      <td>10000</td>\n",
       "      <td>5000</td>\n",
       "      <td>10</td>\n",
       "    </tr>\n",
       "    <tr>\n",
       "      <th>5</th>\n",
       "      <td>6</td>\n",
       "      <td>20000</td>\n",
       "      <td>3000</td>\n",
       "      <td>12</td>\n",
       "    </tr>\n",
       "  </tbody>\n",
       "</table>\n",
       "</div>"
      ],
      "text/plain": [
       "   Turbogenerador  Potencia Maxima (kW)  Potencia Minima (kW)  \\\n",
       "0               1                 22000                  4000   \n",
       "1               2                 21000                  5000   \n",
       "2               3                 15000                  3000   \n",
       "3               4                  8000                  4000   \n",
       "4               5                 10000                  5000   \n",
       "5               6                 20000                  3000   \n",
       "\n",
       "   Eficiencia (lb vapor / kW)  \n",
       "0                          10  \n",
       "1                          12  \n",
       "2                          10  \n",
       "3                          11  \n",
       "4                          10  \n",
       "5                          12  "
      ]
     },
     "execution_count": 2,
     "metadata": {},
     "output_type": "execute_result"
    }
   ],
   "source": [
    "DEMANDA = 61230\n",
    "df = pd.read_csv(r'Data/Datos Turbos.csv')\n",
    "df"
   ]
  },
  {
   "cell_type": "code",
   "execution_count": 3,
   "id": "821d4d3f",
   "metadata": {},
   "outputs": [],
   "source": [
    "# turbogeneradores\n",
    "turbos = np.array(df)\n",
    "\n",
    "# número de turbogeneradores\n",
    "n = len(df['Turbogenerador'])\n",
    "\n",
    "# lista de turbogeneradores\n",
    "N = {i for i in range(1,n+1)}\n",
    "\n",
    "# parámetros\n",
    "Pot_Max = {i:turbos[i-1,1] for i in N}\n",
    "Pot_Min = {i:turbos[i-1,2] for i in N}\n",
    "Eff = {i:turbos[i-1,3] for i in N}"
   ]
  },
  {
   "cell_type": "code",
   "execution_count": 4,
   "id": "c6a4f614",
   "metadata": {},
   "outputs": [
    {
     "name": "stdout",
     "output_type": "stream",
     "text": [
      "Set parameter Username\n",
      "Set parameter LicenseID to value 2647918\n"
     ]
    }
   ],
   "source": [
    "# modelo de optimización\n",
    "model = Model(\"Seleccion de Turbogeneradores\")\n",
    "\n",
    "# variables de decisión\n",
    "x = model.addVars(N, vtype = GRB.BINARY)"
   ]
  },
  {
   "cell_type": "code",
   "execution_count": 5,
   "id": "fd2f781e",
   "metadata": {},
   "outputs": [],
   "source": [
    "# función objetivo\n",
    "model.setObjective(quicksum(Pot_Max[i]*Eff[i]*x[i] for i in N), GRB.MINIMIZE)"
   ]
  },
  {
   "cell_type": "code",
   "execution_count": 6,
   "id": "e565cd01",
   "metadata": {},
   "outputs": [],
   "source": [
    "# restricciones\n",
    "model.addConstr(quicksum(Pot_Max[i]*x[i]for i in N)>=DEMANDA)\n",
    "model.update()"
   ]
  },
  {
   "cell_type": "code",
   "execution_count": 7,
   "id": "e844cb62",
   "metadata": {},
   "outputs": [
    {
     "name": "stdout",
     "output_type": "stream",
     "text": [
      "Gurobi Optimizer version 12.0.1 build v12.0.1rc0 (mac64[arm] - Darwin 24.4.0 24E248)\n",
      "\n",
      "CPU model: Apple M4\n",
      "Thread count: 10 physical cores, 10 logical processors, using up to 10 threads\n",
      "\n",
      "Optimize a model with 1 rows, 6 columns and 6 nonzeros\n",
      "Model fingerprint: 0xc44a7570\n",
      "Variable types: 0 continuous, 6 integer (6 binary)\n",
      "Coefficient statistics:\n",
      "  Matrix range     [8e+03, 2e+04]\n",
      "  Objective range  [9e+04, 3e+05]\n",
      "  Bounds range     [1e+00, 1e+00]\n",
      "  RHS range        [6e+04, 6e+04]\n",
      "Found heuristic solution: objective 742000.00000\n",
      "Presolve removed 1 rows and 6 columns\n",
      "Presolve time: 0.00s\n",
      "Presolve: All rows and columns removed\n",
      "\n",
      "Explored 0 nodes (0 simplex iterations) in 0.00 seconds (0.00 work units)\n",
      "Thread count was 1 (of 10 available processors)\n",
      "\n",
      "Solution count 2: 698000 742000 \n",
      "\n",
      "Optimal solution found (tolerance 1.00e-04)\n",
      "Best objective 6.980000000000e+05, best bound 6.980000000000e+05, gap 0.0000%\n",
      "El valor optimo de la función objetivo es 698000\n"
     ]
    }
   ],
   "source": [
    "# optimización\n",
    "model.optimize()\n",
    "\n",
    "if model.status != GRB.status.OPTIMAL:\n",
    "    print(\"No se encontró una solución factible...\")\n",
    "else:\n",
    "    print(\"El valor optimo de la función objetivo es %g\"%model.objVal)\n",
    "    resultado_objetivo = model.objVal/1000\n",
    "    resultado_seleccion_turbos = [i for i in N if x[i].X >= 1]\n",
    "    resultado_seleccion_potencia = np.sum([Pot_Max[i] for i in N if x[i].X >= 1])\n",
    "\n",
    "    df_salida = pd.DataFrame({\"consumo de vapor máximo total (klb)\": [resultado_objetivo],\n",
    "                              \"turbogeneradores seleccionados\": [resultado_seleccion_turbos],\n",
    "                              \"potencia total máxima entregada (kW)\": [resultado_seleccion_potencia]})"
   ]
  },
  {
   "cell_type": "code",
   "execution_count": 8,
   "id": "01105369",
   "metadata": {},
   "outputs": [
    {
     "data": {
      "text/html": [
       "<div>\n",
       "<style scoped>\n",
       "    .dataframe tbody tr th:only-of-type {\n",
       "        vertical-align: middle;\n",
       "    }\n",
       "\n",
       "    .dataframe tbody tr th {\n",
       "        vertical-align: top;\n",
       "    }\n",
       "\n",
       "    .dataframe thead th {\n",
       "        text-align: right;\n",
       "    }\n",
       "</style>\n",
       "<table border=\"1\" class=\"dataframe\">\n",
       "  <thead>\n",
       "    <tr style=\"text-align: right;\">\n",
       "      <th></th>\n",
       "      <th>consumo de vapor máximo total (klb)</th>\n",
       "      <th>turbogeneradores seleccionados</th>\n",
       "      <th>potencia total máxima entregada (kW)</th>\n",
       "    </tr>\n",
       "  </thead>\n",
       "  <tbody>\n",
       "    <tr>\n",
       "      <th>0</th>\n",
       "      <td>698.0</td>\n",
       "      <td>[1, 3, 4, 6]</td>\n",
       "      <td>65000</td>\n",
       "    </tr>\n",
       "  </tbody>\n",
       "</table>\n",
       "</div>"
      ],
      "text/plain": [
       "   consumo de vapor máximo total (klb) turbogeneradores seleccionados  \\\n",
       "0                                698.0                   [1, 3, 4, 6]   \n",
       "\n",
       "   potencia total máxima entregada (kW)  \n",
       "0                                 65000  "
      ]
     },
     "execution_count": 8,
     "metadata": {},
     "output_type": "execute_result"
    }
   ],
   "source": [
    "df_salida"
   ]
  },
  {
   "cell_type": "markdown",
   "id": "9d7beab3",
   "metadata": {},
   "source": [
    "### Carga de Turbogeneradores\n",
    "\n",
    "Una vez se definen los turbos a operar, se optimiza esa configuración para recomendar los niveles de carga que permitan hacer más eficiente la generación."
   ]
  },
  {
   "cell_type": "markdown",
   "id": "0a5d597c",
   "metadata": {},
   "source": [
    "#### Conjuntos y Notaciones\n",
    "\n",
    "Se define la siguiente notación:\n",
    "\n",
    "- Sea $turbos-seleccionados$ el conjunto de turbogeneradores que deben operarse para satisfacer la demanda de energía.\n",
    "\n",
    "- Sea $x_i$ la *Potencia* (en kW) generada en el Turbogenerador $i$, $\\forall i \\in \\{turbos-seleccionados\\}$\n",
    "\n",
    "- Sea $F_i$ la *Eficiencia* (en klb Vapor/kW) del Turbogenerador $i$, $\\forall i \\in \\{turbos-seleccionados\\}$\n",
    "\n",
    "- Sea $C_i$ el *Consumo de Vapor* (en klb Vapor) del Turbogenerador $i$, $\\forall i \\in \\{turbos-seleccionados\\}$\n",
    "\n",
    "De forma que:\n",
    "\n",
    "$$ C_i = x_i * F_i, \\forall i \\in \\{turbos-seleccionados\\}$$\n",
    "\n",
    "##### Variables de Decisión\n",
    "- $x_i$ la Potencia Requerida al Turbogenerador $i$, $x_i \\in \\mathbb{R}_{\\geq 0}, \\forall i \\in \\{turbos-seleccionados\\}$\n",
    "\n",
    "#### Función Objetivo\n",
    "\n",
    "El objetivo es minimizar es el *Consumo Total de Vapor* dada una *Potencia Total Demandada*:\n",
    "$$ \\min \\sum_{i=1}^{6} C_i = \\sum_{i=1}^{6} x_i * F_i  $$\n",
    "\n",
    "Sujeta a:\n",
    "\n",
    "- $\\sum_{i=1}^{6} x_i \\geq P_{Demanda}$ (La potencia total generada debe ser mayor o igual que la potencia total requerida).\n",
    "- $x_i \\geq P_{i-min}, \\forall i \\in \\{turbos-seleccionados\\}$ (La potencia generada por el turbogenerador $i$ no sea inferior a su potencia mínima nominal)\n",
    "- $x_i \\leq P_{i-max}, \\forall i \\in \\{turbos-seleccionados\\}$ (La potencia generada por el turbogenerador $i$ no supere su potencia máxima nominal)\n",
    "- $x_i \\in \\mathbb{R}_{\\geq 0}, \\forall i \\in \\{turbos-seleccionados\\}$"
   ]
  },
  {
   "cell_type": "code",
   "execution_count": 9,
   "id": "440c3449",
   "metadata": {},
   "outputs": [
    {
     "data": {
      "text/plain": [
       "[1, 3, 4, 6]"
      ]
     },
     "execution_count": 9,
     "metadata": {},
     "output_type": "execute_result"
    }
   ],
   "source": [
    "resultado_seleccion_turbos"
   ]
  },
  {
   "cell_type": "code",
   "execution_count": 10,
   "id": "dafe9c3f",
   "metadata": {},
   "outputs": [
    {
     "data": {
      "text/html": [
       "<div>\n",
       "<style scoped>\n",
       "    .dataframe tbody tr th:only-of-type {\n",
       "        vertical-align: middle;\n",
       "    }\n",
       "\n",
       "    .dataframe tbody tr th {\n",
       "        vertical-align: top;\n",
       "    }\n",
       "\n",
       "    .dataframe thead th {\n",
       "        text-align: right;\n",
       "    }\n",
       "</style>\n",
       "<table border=\"1\" class=\"dataframe\">\n",
       "  <thead>\n",
       "    <tr style=\"text-align: right;\">\n",
       "      <th></th>\n",
       "      <th>Turbogenerador</th>\n",
       "      <th>Potencia Maxima (kW)</th>\n",
       "      <th>Potencia Minima (kW)</th>\n",
       "      <th>Eficiencia (lb vapor / kW)</th>\n",
       "    </tr>\n",
       "  </thead>\n",
       "  <tbody>\n",
       "    <tr>\n",
       "      <th>0</th>\n",
       "      <td>1</td>\n",
       "      <td>22000</td>\n",
       "      <td>4000</td>\n",
       "      <td>10</td>\n",
       "    </tr>\n",
       "    <tr>\n",
       "      <th>2</th>\n",
       "      <td>3</td>\n",
       "      <td>15000</td>\n",
       "      <td>3000</td>\n",
       "      <td>10</td>\n",
       "    </tr>\n",
       "    <tr>\n",
       "      <th>3</th>\n",
       "      <td>4</td>\n",
       "      <td>8000</td>\n",
       "      <td>4000</td>\n",
       "      <td>11</td>\n",
       "    </tr>\n",
       "    <tr>\n",
       "      <th>5</th>\n",
       "      <td>6</td>\n",
       "      <td>20000</td>\n",
       "      <td>3000</td>\n",
       "      <td>12</td>\n",
       "    </tr>\n",
       "  </tbody>\n",
       "</table>\n",
       "</div>"
      ],
      "text/plain": [
       "   Turbogenerador  Potencia Maxima (kW)  Potencia Minima (kW)  \\\n",
       "0               1                 22000                  4000   \n",
       "2               3                 15000                  3000   \n",
       "3               4                  8000                  4000   \n",
       "5               6                 20000                  3000   \n",
       "\n",
       "   Eficiencia (lb vapor / kW)  \n",
       "0                          10  \n",
       "2                          10  \n",
       "3                          11  \n",
       "5                          12  "
      ]
     },
     "execution_count": 10,
     "metadata": {},
     "output_type": "execute_result"
    }
   ],
   "source": [
    "df = pd.read_csv(r'Data/Datos Turbos.csv')\n",
    "\n",
    "# Se filtran los turbogeneradores seleccionados\n",
    "mask = df['Turbogenerador'].isin(resultado_seleccion_turbos)\n",
    "df_turbos = df[mask]\n",
    "df_turbos"
   ]
  },
  {
   "cell_type": "code",
   "execution_count": 11,
   "id": "01146f3e",
   "metadata": {},
   "outputs": [],
   "source": [
    "# turbogeneradores\n",
    "turbos = np.array(df)\n",
    "\n",
    "# número de turbogeneradores\n",
    "n = len(df_turbos['Turbogenerador'])\n",
    "\n",
    "# lista de turbogeneradores\n",
    "N = {i for i in range(1,n+1)}\n",
    "\n",
    "# parámetros\n",
    "Pot_Max = {i:turbos[i-1,1] for i in N}\n",
    "Pot_Min = {i:turbos[i-1,2] for i in N}\n",
    "Eff = {i:turbos[i-1,3] for i in N}"
   ]
  },
  {
   "cell_type": "code",
   "execution_count": 12,
   "id": "2228ff74",
   "metadata": {},
   "outputs": [],
   "source": [
    "# modelo de optimización\n",
    "model = Model(\"Seleccion de Turbogeneradores\")\n",
    "\n",
    "# variables de decisión\n",
    "x = model.addVars(N, vtype = GRB.CONTINUOUS)"
   ]
  },
  {
   "cell_type": "code",
   "execution_count": 13,
   "id": "6a191eb9",
   "metadata": {},
   "outputs": [],
   "source": [
    "# función objetivo\n",
    "model.setObjective(quicksum(x[i]*Eff[i] for i in N), GRB.MINIMIZE)"
   ]
  },
  {
   "cell_type": "code",
   "execution_count": 14,
   "id": "f1dfd9b6",
   "metadata": {},
   "outputs": [],
   "source": [
    "# restricciones\n",
    "model.addConstr(quicksum(x[i]for i in N)>=DEMANDA)\n",
    "model.addConstrs(x[i] <= Pot_Max[i] for i in N)\n",
    "model.addConstrs(x[i] >= Pot_Min[i] for i in N)\n",
    "model.update()"
   ]
  },
  {
   "cell_type": "code",
   "execution_count": 15,
   "id": "a3026bb6",
   "metadata": {},
   "outputs": [
    {
     "name": "stdout",
     "output_type": "stream",
     "text": [
      "Gurobi Optimizer version 12.0.1 build v12.0.1rc0 (mac64[arm] - Darwin 24.4.0 24E248)\n",
      "\n",
      "CPU model: Apple M4\n",
      "Thread count: 10 physical cores, 10 logical processors, using up to 10 threads\n",
      "\n",
      "Optimize a model with 9 rows, 4 columns and 12 nonzeros\n",
      "Model fingerprint: 0x413e78cc\n",
      "Coefficient statistics:\n",
      "  Matrix range     [1e+00, 1e+00]\n",
      "  Objective range  [1e+01, 1e+01]\n",
      "  Bounds range     [0e+00, 0e+00]\n",
      "  RHS range        [3e+03, 6e+04]\n",
      "Presolve removed 9 rows and 4 columns\n",
      "Presolve time: 0.00s\n",
      "Presolve: All rows and columns removed\n",
      "Iteration    Objective       Primal Inf.    Dual Inf.      Time\n",
      "       0    6.5276000e+05   0.000000e+00   0.000000e+00      0s\n",
      "\n",
      "Solved in 0 iterations and 0.00 seconds (0.00 work units)\n",
      "Optimal objective  6.527600000e+05\n",
      "El valor optimo de la función objetivo es 652760\n"
     ]
    }
   ],
   "source": [
    "# optimización\n",
    "model.optimize()\n",
    "\n",
    "if model.status != GRB.status.OPTIMAL:\n",
    "    print(\"No se encontró una solución factible...\")\n",
    "else:\n",
    "    print(\"El valor optimo de la función objetivo es %g\"%model.objVal)\n",
    "    resultado_objetivo = model.objVal/1000\n",
    "    resultado_carga_turbos = [x[i].X for i in N]\n",
    "    resultado_seleccion_potencia = np.sum([x[i].X for i in N])\n",
    "\n",
    "    df_salida = pd.DataFrame({\"consumo de vapor proyectado (klb)\": [resultado_objetivo],\n",
    "                               \"turbogeneradores seleccionados\": [resultado_seleccion_turbos],\n",
    "                              \"carga de turbogeneradores seleccionados (kW)\": [resultado_carga_turbos],\n",
    "                              \"potencia total proyectada (kW)\": [resultado_seleccion_potencia]})"
   ]
  },
  {
   "cell_type": "code",
   "execution_count": 16,
   "id": "20974dc8",
   "metadata": {},
   "outputs": [
    {
     "data": {
      "text/html": [
       "<div>\n",
       "<style scoped>\n",
       "    .dataframe tbody tr th:only-of-type {\n",
       "        vertical-align: middle;\n",
       "    }\n",
       "\n",
       "    .dataframe tbody tr th {\n",
       "        vertical-align: top;\n",
       "    }\n",
       "\n",
       "    .dataframe thead th {\n",
       "        text-align: right;\n",
       "    }\n",
       "</style>\n",
       "<table border=\"1\" class=\"dataframe\">\n",
       "  <thead>\n",
       "    <tr style=\"text-align: right;\">\n",
       "      <th></th>\n",
       "      <th>consumo de vapor proyectado (klb)</th>\n",
       "      <th>turbogeneradores seleccionados</th>\n",
       "      <th>carga de turbogeneradores seleccionados (kW)</th>\n",
       "      <th>potencia total proyectada (kW)</th>\n",
       "    </tr>\n",
       "  </thead>\n",
       "  <tbody>\n",
       "    <tr>\n",
       "      <th>0</th>\n",
       "      <td>652.76</td>\n",
       "      <td>[1, 3, 4, 6]</td>\n",
       "      <td>[22000.0, 16230.0, 15000.0, 8000.0]</td>\n",
       "      <td>61230.0</td>\n",
       "    </tr>\n",
       "  </tbody>\n",
       "</table>\n",
       "</div>"
      ],
      "text/plain": [
       "   consumo de vapor proyectado (klb) turbogeneradores seleccionados  \\\n",
       "0                             652.76                   [1, 3, 4, 6]   \n",
       "\n",
       "  carga de turbogeneradores seleccionados (kW)  potencia total proyectada (kW)  \n",
       "0          [22000.0, 16230.0, 15000.0, 8000.0]                         61230.0  "
      ]
     },
     "execution_count": 16,
     "metadata": {},
     "output_type": "execute_result"
    }
   ],
   "source": [
    "df_salida"
   ]
  }
 ],
 "metadata": {
  "kernelspec": {
   "display_name": "PantaleonDS",
   "language": "python",
   "name": "python3"
  },
  "language_info": {
   "codemirror_mode": {
    "name": "ipython",
    "version": 3
   },
   "file_extension": ".py",
   "mimetype": "text/x-python",
   "name": "python",
   "nbconvert_exporter": "python",
   "pygments_lexer": "ipython3",
   "version": "3.12.2"
  }
 },
 "nbformat": 4,
 "nbformat_minor": 5
}
